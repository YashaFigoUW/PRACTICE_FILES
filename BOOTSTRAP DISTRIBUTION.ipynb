{
 "cells": [
  {
   "cell_type": "code",
   "execution_count": 360,
   "metadata": {
    "collapsed": false
   },
   "outputs": [
    {
     "data": {
      "image/png": "[encoded data removed]",
      "text/plain": [
       "<matplotlib.figure.Figure at 0x10cfbc790>"
      ]
     },
     "metadata": {},
     "output_type": "display_data"
    }
   ],
   "source": [
    "import matplotlib.pyplot as plt\n",
    "import seaborn as sns\n",
    "sns.set()\n",
    "%matplotlib inline  \n",
    "\n",
    "data = [613,339,250,277,649,288,690,113,957,590,\n",
    "        578,189,273,127,303,230,656,272,176,265,\n",
    "        762,522,31,49,638,120,172,316,265,75,121,\n",
    "        702,138,416,972,139,466,1252,740,78]\n",
    "\n",
    "plt.hist(data)\n",
    "plt.show()"
   ]
  },
  {
   "cell_type": "code",
   "execution_count": 361,
   "metadata": {
    "collapsed": false
   },
   "outputs": [
    {
     "data": {
      "image/png": "[encoded data removed]",
      "text/plain": [
       "<matplotlib.figure.Figure at 0x10d805d10>"
      ]
     },
     "metadata": {},
     "output_type": "display_data"
    }
   ],
   "source": [
    "def bootstrap(data,reps):\n",
    "    \n",
    "    import numpy as np\n",
    "    import random\n",
    "    import math\n",
    "    \n",
    "    n = len(data)\n",
    "    x_bar = np.mean(data)\n",
    "    s = np.std(data)\n",
    "    \n",
    "    t_sim = []\n",
    "    \n",
    "    for x in range(reps):\n",
    "        \n",
    "        #SAMPLE WITH REPLACMENT\n",
    "        ix = [random.randint(0,n-1) for x in range(reps)]\n",
    "        dist = [data[index] for index in ix]\n",
    "        \n",
    "        #BUILD BOOTSTRAPPED SAMPLING DISTRIBUTION\n",
    "        t_statistic = ((np.mean(dist)-x_bar)/\n",
    "                       (np.std(dist)/math.sqrt(n)))\n",
    "        t_sim.append(t_statistic)\n",
    "    \n",
    "    return t_sim\n",
    "        \n",
    "plt.hist(bootstrap(data,1000))\n",
    "plt.show()"
   ]
  },
  {
   "cell_type": "markdown",
   "metadata": {},
   "source": [
    "---"
   ]
  }
 ],
 "metadata": {
  "kernelspec": {
   "display_name": "Python 2",
   "language": "python",
   "name": "python2"
  },
  "language_info": {
   "codemirror_mode": {
    "name": "ipython",
    "version": 2
   },
   "file_extension": ".py",
   "mimetype": "text/x-python",
   "name": "python",
   "nbconvert_exporter": "python",
   "pygments_lexer": "ipython2",
   "version": "2.7.11"
  }
 },
 "nbformat": 4,
 "nbformat_minor": 0
}
